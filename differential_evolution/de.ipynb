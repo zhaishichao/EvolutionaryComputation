{
 "cells": [
  {
   "cell_type": "markdown",
   "source": [
    "## 差分进化"
   ],
   "metadata": {
    "collapsed": false
   }
  },
  {
   "cell_type": "code",
   "execution_count": 5,
   "outputs": [],
   "source": [
    "import numpy as np\n",
    "import random\n",
    "from tqdm import tqdm # 进度条显示"
   ],
   "metadata": {
    "collapsed": false,
    "ExecuteTime": {
     "end_time": "2024-10-15T13:21:48.159757Z",
     "start_time": "2024-10-15T13:21:48.142797Z"
    }
   }
  },
  {
   "cell_type": "markdown",
   "source": [
    "### 目标函数\n",
    "\n",
    "求函数的最小化\n",
    "$f(x)=\\sum_{i=1}^nx_i^2\\left(-20\\leq x_i\\leq20\\right)$ \n",
    "\n",
    "n=10，x的维度为10，表示为$(x_1,x_2,...,x_{10})$"
   ],
   "metadata": {
    "collapsed": false
   }
  },
  {
   "cell_type": "code",
   "outputs": [],
   "source": [
    "# 适应度函数/目标函数\n",
    "def function(x): # x的维度为10，也即D=10\n",
    "    return sum(x ** 2)\n",
    "# 求适应度\n",
    "def fitness(x):\n",
    "    result=np.empty(x.shape[1]) # 记录种群中个体的适应度\n",
    "    # 计算每个个体的适应度\n",
    "    for i in range(0,x.shape[1]):\n",
    "        result[i]=function(x[:,i])\n",
    "    return result"
   ],
   "metadata": {
    "collapsed": false,
    "ExecuteTime": {
     "end_time": "2024-10-15T13:21:48.175547Z",
     "start_time": "2024-10-15T13:21:48.160851Z"
    }
   },
   "execution_count": 6
  },
  {
   "cell_type": "markdown",
   "source": [
    "### 差分变异\n",
    "$v_{i,G+1}=x_{r_1,G}+F\\cdot(x_{r_2,G}-x_{r_3,G})$\n",
    "\n",
    "差分的优化：\n",
    "$v_{i,G+1}=x_{best,G}+F\\cdot(x_{r_{1},G}+x_{r_{2},G}-x_{r_{3},G}-x_{r_{4},G})$\n",
    "\n",
    "其中$v_i$是突变的结果\n",
    "i=1,2,3,...,NP\n",
    "$r_1、r_2、r_3$是随机选择的三个个体的索引\n",
    "F是突变因子，范围在[0,2]，控制差分的权重"
   ],
   "metadata": {
    "collapsed": false
   }
  },
  {
   "cell_type": "code",
   "outputs": [],
   "source": [
    "# 差分变异，发生在不同的个体之间\n",
    "def variation(x,F):\n",
    "    # 初始化变异个体\n",
    "    v = np.zeros(x.shape)\n",
    "    for i in range(0,x.shape[1]):\n",
    "\n",
    "        # 表示的是在0-NP范围内，随机生成3个整数，作为索引，且保证3个索引不与当前的循环次数i重复（通过这种方式来确保至少有一个个体是变异了的）\n",
    "        randoms=random.sample(range(0,x.shape[1]),3)# 表示的是在0-x.shape[1]范围内，随机生成3个整数，作为索引\n",
    "        while randoms[0]==i or randoms[1]==i or randoms[2]==i :\n",
    "            randoms=random.sample(range(0,x.shape[1]),3)\n",
    "        # 计算变异的个体\n",
    "        v[:,i]=x[:,randoms[0]]+F*(x[:,randoms[1]]-x[:,randoms[2]])\n",
    "    return v\n",
    "\n",
    "# 变异的优化\n",
    "def variation_optimize(x,F):\n",
    "    # 初始化变异个体\n",
    "    v = np.zeros(x.shape)\n",
    "    for i in range(0,x.shape[1]):\n",
    "\n",
    "        # 表示的是在0-NP范围内，随机生成5个整数，作为索引，且保证5个索引不与当前的循环次数i重复（通过这种方式来确保至少有一个个体是变异了的）\n",
    "        randoms=random.sample(range(0,x.shape[1]),5)# 表示的是在0-x.shape[1]范围内，随机生成5个整数，作为索引\n",
    "        while randoms[0]==i or randoms[1]==i or randoms[2]==i or randoms[3]==i or randoms[4]==i:\n",
    "            randoms=random.sample(range(0,x.shape[1]),5)\n",
    "        # 计算变异的个体\n",
    "        v[:,i]=x[:,randoms[0]]+F*(x[:,randoms[1]]+x[:,randoms[2]]-x[:,randoms[3]]-x[:,randoms[4]])\n",
    "    return v"
   ],
   "metadata": {
    "collapsed": false,
    "ExecuteTime": {
     "end_time": "2024-10-15T13:21:48.190877Z",
     "start_time": "2024-10-15T13:21:48.176613Z"
    }
   },
   "execution_count": 7
  },
  {
   "cell_type": "markdown",
   "source": [
    "### 交叉\n",
    "$u_{i,G+1}=(u_{1i,G+1},u_{2i,G+1},\\ldots,u_{Di,G+1})$\n",
    "\n",
    "对于$u_{i,G+1}$\n",
    "\n",
    "<img src=\"../imgs/crossover.png\" style=\"zoom:20%;\">\n",
    "\n",
    "CR是交叉因子\n",
    "$rnbr(i)$是一个范围在[1,2,...,D]的随机数"
   ],
   "metadata": {
    "collapsed": false
   }
  },
  {
   "cell_type": "code",
   "outputs": [],
   "source": [
    "# 交叉\n",
    "def cross(x,v,CR):\n",
    "    u = np.zeros((D, NP))\n",
    "    rate=np.random.rand()\n",
    "    for i in range(0,x.shape[0]):\n",
    "        if rate<=CR or i==rate:\n",
    "           u[i,:]=v[i,:]\n",
    "        else:\n",
    "           u[i,:]=x[i,:]\n",
    "    return u\n"
   ],
   "metadata": {
    "collapsed": false,
    "ExecuteTime": {
     "end_time": "2024-10-15T13:21:48.206619Z",
     "start_time": "2024-10-15T13:21:48.193045Z"
    }
   },
   "execution_count": 8
  },
  {
   "cell_type": "markdown",
   "source": [
    "### 边界处理（防止溢出）"
   ],
   "metadata": {
    "collapsed": false
   }
  },
  {
   "cell_type": "code",
   "outputs": [],
   "source": [
    "# 边界处理\n",
    "def boundary_process(x,left,right):\n",
    "    for i in range(0,x.shape[0]):\n",
    "        for j in range(0,x.shape[1]):\n",
    "            if x[i][j] < left or x[i][j]>right:\n",
    "                x[i][j]= random.random()*(right - left) + left\n",
    "    return x"
   ],
   "metadata": {
    "collapsed": false,
    "ExecuteTime": {
     "end_time": "2024-10-15T13:21:48.222492Z",
     "start_time": "2024-10-15T13:21:48.208667Z"
    }
   },
   "execution_count": 9
  },
  {
   "cell_type": "markdown",
   "source": [
    "### 参数初始化"
   ],
   "metadata": {
    "collapsed": false
   }
  },
  {
   "cell_type": "code",
   "outputs": [],
   "source": [
    "NP = 50  # 个体数目\n",
    "D = 10  # 目标函数中变量的个数\n",
    "G = 5000  # 最大迭代数\n",
    "CR = 0.1  # 交叉算子\n",
    "Threshold = 1e-6  # 阈值\n",
    "F=0.5 # 变异算子\n",
    "Left = -20 # 左边界\n",
    "Right = 20 # 右边界"
   ],
   "metadata": {
    "collapsed": false,
    "ExecuteTime": {
     "end_time": "2024-10-15T13:21:48.238216Z",
     "start_time": "2024-10-15T13:21:48.223495Z"
    }
   },
   "execution_count": 10
  },
  {
   "cell_type": "markdown",
   "source": [
    "### 算法的执行"
   ],
   "metadata": {
    "collapsed": false
   }
  },
  {
   "cell_type": "code",
   "execution_count": 20,
   "outputs": [
    {
     "name": "stderr",
     "output_type": "stream",
     "text": [
      "DE: 100%|██████████| 10000/10000 [00:15<00:00, 664.76it/s, 当前迭代次数=1e+4, 最优个体索引=46, 目标函数最小值=1.1e-15]\n"
     ]
    }
   ],
   "source": [
    "x = np.random.rand(10, 50) * (Right - Left) + Left   # 在[Left,Right]之间产生随机数\n",
    "\n",
    "# 记录进化迭代的过程\n",
    "number_generations=G\n",
    "per_generation_optimal_value=np.zeros(G)\n",
    "\n",
    "x_fitness=fitness(x)\n",
    "\n",
    "with tqdm(total=G, desc=\"DE\") as pbar:\n",
    "    for i in range(0,G):\n",
    "        #v=variation(x,F) # 变异\n",
    "        v=variation_optimize(x,F) # 变异的优化\n",
    "        c=cross(x,v,CR) # 交叉\n",
    "        \n",
    "        c=boundary_process(c,Left,Right) # 若超出边界则重新生成\n",
    "        \n",
    "        c_fitness=fitness(c) # 对新的试验种群求适应度\n",
    "        for m in range(0,x.shape[1]):\n",
    "            if c_fitness[m]<x_fitness[m]: # 贪婪地选择当前最优个体\n",
    "                x[:,m]=c[:,m]\n",
    "                x_fitness[m]=c_fitness[m]\n",
    "        index=np.argmin(x_fitness) # 记录最优个体索引\n",
    "        per_generation_optimal_value[i]=x_fitness[index] # 记录最优适应度\n",
    "         # 动态更新进度条信息\n",
    "        pbar.set_postfix({\n",
    "            \"当前迭代次数\": i + 1, \n",
    "            \"最优个体索引\": index, \n",
    "            \"目标函数最小值\": x_fitness[index]\n",
    "        })\n",
    "        # 更新进度条\n",
    "        pbar.update(1) "
   ],
   "metadata": {
    "collapsed": false,
    "ExecuteTime": {
     "end_time": "2024-10-15T13:27:52.714383Z",
     "start_time": "2024-10-15T13:27:37.657608Z"
    }
   }
  },
  {
   "cell_type": "code",
   "outputs": [
    {
     "data": {
      "text/plain": "<Figure size 640x480 with 1 Axes>",
      "image/png": "[encoded data removed]"
     },
     "metadata": {},
     "output_type": "display_data"
    }
   ],
   "source": [
    "import matplotlib.pyplot as plt\n",
    "# 设置可显示中文宋体\n",
    "plt.rcParams['font.family'] = 'STZhongsong'\n",
    "# 生成 x 轴数据：0 到 G，间隔为 1\n",
    "x = np.arange(0, number_generations, 1)\n",
    "\n",
    "# 生成 y 轴数据：每次迭代的最优值\n",
    "y = per_generation_optimal_value\n",
    "\n",
    "# 绘制折线图\n",
    "plt.plot(x, y)\n",
    "\n",
    "# 设置标题和坐标轴标签\n",
    "plt.title(\"差分进化曲线\")\n",
    "plt.xlabel(\"种群进化的次数\")\n",
    "plt.ylabel(\"目标函数的最优值\")\n",
    "\n",
    "# 显示图形\n",
    "plt.show()\n"
   ],
   "metadata": {
    "collapsed": false,
    "ExecuteTime": {
     "end_time": "2024-10-15T13:27:59.735772Z",
     "start_time": "2024-10-15T13:27:59.599378Z"
    }
   },
   "execution_count": 21
  }
 ],
 "metadata": {
  "kernelspec": {
   "display_name": "Python 3",
   "language": "python",
   "name": "python3"
  },
  "language_info": {
   "codemirror_mode": {
    "name": "ipython",
    "version": 2
   },
   "file_extension": ".py",
   "mimetype": "text/x-python",
   "name": "python",
   "nbconvert_exporter": "python",
   "pygments_lexer": "ipython2",
   "version": "2.7.6"
  }
 },
 "nbformat": 4,
 "nbformat_minor": 0
}
