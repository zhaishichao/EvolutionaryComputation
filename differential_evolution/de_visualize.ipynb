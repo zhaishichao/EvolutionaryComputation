{
 "cells": [
  {
   "cell_type": "markdown",
   "source": [
    "## 差分进化"
   ],
   "metadata": {
    "collapsed": false
   }
  },
  {
   "cell_type": "code",
   "execution_count": 18,
   "outputs": [],
   "source": [
    "import numpy as np\n",
    "import random\n",
    "from tqdm import tqdm # 进度条显示"
   ],
   "metadata": {
    "collapsed": false,
    "ExecuteTime": {
     "end_time": "2024-10-18T03:42:48.562613Z",
     "start_time": "2024-10-18T03:42:48.548972Z"
    }
   }
  },
  {
   "cell_type": "markdown",
   "source": [
    "### 目标函数\n",
    "\n",
    "求函数的最小值\n",
    "$z=f(x,y)=(x^2+y^2)-e^{-(x^2+y^2)},\\left(-10\\leq x,y\\leq10\\right)$\n",
    "\n",
    "<img src=\"../imgs/3d_function.png\">"
   ],
   "metadata": {
    "collapsed": false
   }
  },
  {
   "cell_type": "code",
   "outputs": [],
   "source": [
    "# 适应度函数/目标函数\n",
    "def function(x,y): # x,y两个变量，也即D=2\n",
    "    return (x**2 + y**2) - np.exp(-(x**2 + y**2))\n",
    "# 求适应度\n",
    "def fitness(x):\n",
    "    result=np.empty(x.shape[1]) # 记录种群中个体的适应度\n",
    "    # 计算每个个体的适应度\n",
    "    for i in range(0,x.shape[1]):\n",
    "        result[i]=function(x[0,i],x[1,i])\n",
    "    return result"
   ],
   "metadata": {
    "collapsed": false,
    "ExecuteTime": {
     "end_time": "2024-10-18T03:42:48.578982Z",
     "start_time": "2024-10-18T03:42:48.571277Z"
    }
   },
   "execution_count": 19
  },
  {
   "cell_type": "markdown",
   "source": [
    "### 差分变异\n",
    "$v_{i,G+1}=x_{r_1,G}+F\\cdot(x_{r_2,G}-x_{r_3,G})$\n",
    "\n",
    "差分的优化：\n",
    "$v_{i,G+1}=x_{best,G}+F\\cdot(x_{r_{1},G}+x_{r_{2},G}-x_{r_{3},G}-x_{r_{4},G})$\n",
    "\n",
    "其中$v_i$是突变的结果\n",
    "i=1,2,3,...,NP\n",
    "$r_1、r_2、r_3$是随机选择的三个个体的索引\n",
    "F是突变因子，范围在[0,2]，控制差分的权重"
   ],
   "metadata": {
    "collapsed": false
   }
  },
  {
   "cell_type": "code",
   "outputs": [],
   "source": [
    "# 差分变异，发生在不同的个体之间\n",
    "def variation(x,F):\n",
    "    # 初始化变异个体\n",
    "    v = np.zeros(x.shape)\n",
    "    for i in range(0,x.shape[1]):\n",
    "        # 表示的是在0-NP范围内，随机生成3个整数，作为索引，且保证3个索引不与当前的循环次数i重复（通过这种方式来确保至少有一个个体是变异了的）\n",
    "        randoms=random.sample(range(0,x.shape[1]),3)# 表示的是在0-x.shape[1]范围内，随机生成3个整数，作为索引\n",
    "        while randoms[0]==i or randoms[1]==i or randoms[2]==i :\n",
    "            randoms=random.sample(range(0,x.shape[1]),3)\n",
    "        # 计算变异的个体\n",
    "        v[:,i]=x[:,randoms[0]]+F*(x[:,randoms[1]]-x[:,randoms[2]])\n",
    "    return v\n",
    "\n",
    "# 变异的优化\n",
    "def variation_optimize(x,F):\n",
    "    # 初始化变异个体\n",
    "    v = np.zeros(x.shape)\n",
    "    for i in range(0,x.shape[1]):\n",
    "\n",
    "        # 表示的是在0-NP范围内，随机生成5个整数，作为索引，且保证5个索引不与当前的循环次数i重复（通过这种方式来确保至少有一个个体是变异了的）\n",
    "        randoms=random.sample(range(0,x.shape[1]),5)# 表示的是在0-x.shape[1]范围内，随机生成5个整数，作为索引\n",
    "        while randoms[0]==i or randoms[1]==i or randoms[2]==i or randoms[3]==i or randoms[4]==i:\n",
    "            randoms=random.sample(range(0,x.shape[1]),5)\n",
    "        # 计算变异的个体\n",
    "        v[:,i]=x[:,randoms[0]]+F*(x[:,randoms[1]]+x[:,randoms[2]]-x[:,randoms[3]]-x[:,randoms[4]])\n",
    "    return v"
   ],
   "metadata": {
    "collapsed": false,
    "ExecuteTime": {
     "end_time": "2024-10-18T03:42:48.594813Z",
     "start_time": "2024-10-18T03:42:48.580985Z"
    }
   },
   "execution_count": 20
  },
  {
   "cell_type": "markdown",
   "source": [
    "### 交叉\n",
    "$u_{i,G+1}=(u_{1i,G+1},u_{2i,G+1},\\ldots,u_{Di,G+1})$\n",
    "\n",
    "对于$u_{i,G+1}$\n",
    "\n",
    "<img src=\"../imgs/crossover.png\" style=\"zoom:20%;\">\n",
    "\n",
    "CR是交叉因子\n",
    "$rnbr(i)$是一个范围在[1,2,...,D]的随机数"
   ],
   "metadata": {
    "collapsed": false
   }
  },
  {
   "cell_type": "code",
   "outputs": [],
   "source": [
    "# 交叉\n",
    "def cross(x,v,CR):\n",
    "    u = np.zeros((D, NP))\n",
    "    rate=np.random.rand()\n",
    "    for i in range(0,x.shape[0]):\n",
    "        if rate<=CR or i==rate:\n",
    "           u[i,:]=v[i,:]\n",
    "        else:\n",
    "           u[i,:]=x[i,:]\n",
    "    return u\n"
   ],
   "metadata": {
    "collapsed": false,
    "ExecuteTime": {
     "end_time": "2024-10-18T03:42:48.610611Z",
     "start_time": "2024-10-18T03:42:48.596892Z"
    }
   },
   "execution_count": 21
  },
  {
   "cell_type": "markdown",
   "source": [
    "### 边界处理（防止溢出）"
   ],
   "metadata": {
    "collapsed": false
   }
  },
  {
   "cell_type": "code",
   "outputs": [],
   "source": [
    "# 边界处理\n",
    "def boundary_process(x,left,right):\n",
    "    for i in range(0,x.shape[0]):\n",
    "        for j in range(0,x.shape[1]):\n",
    "            if x[i][j] < left or x[i][j]>right:\n",
    "                x[i][j]= random.random()*(right - left) + left\n",
    "    return x"
   ],
   "metadata": {
    "collapsed": false,
    "ExecuteTime": {
     "end_time": "2024-10-18T03:42:48.626393Z",
     "start_time": "2024-10-18T03:42:48.612699Z"
    }
   },
   "execution_count": 22
  },
  {
   "cell_type": "markdown",
   "source": [
    "### 参数初始化"
   ],
   "metadata": {
    "collapsed": false
   }
  },
  {
   "cell_type": "code",
   "outputs": [],
   "source": [
    "NP = 20  # 个体数目\n",
    "D = 2  # 目标函数中变量的个数\n",
    "G = 500  # 最大迭代数\n",
    "CR = 0.1  # 交叉算子\n",
    "Threshold = 1e-6  # 阈值\n",
    "F=0.4 # 变异算子\n",
    "Left = -10 # 左边界\n",
    "Right = 10 # 右边界\n"
   ],
   "metadata": {
    "collapsed": false,
    "ExecuteTime": {
     "end_time": "2024-10-18T03:42:48.642226Z",
     "start_time": "2024-10-18T03:42:48.627496Z"
    }
   },
   "execution_count": 23
  },
  {
   "cell_type": "markdown",
   "source": [
    "### 算法的执行"
   ],
   "metadata": {
    "collapsed": false
   }
  },
  {
   "cell_type": "code",
   "execution_count": 24,
   "outputs": [
    {
     "name": "stderr",
     "output_type": "stream",
     "text": [
      "DE: 100%|██████████| 500/500 [00:00<00:00, 1162.65it/s, 当前迭代次数=500, 最优个体索引=0, 目标函数最小值=-1]    \n"
     ]
    }
   ],
   "source": [
    "x = np.random.rand(D, NP) * (Right - Left) + Left   # 在[Left,Right]之间产生随机数\n",
    "\n",
    "# 记录进化迭代的过程\n",
    "number_generations=G\n",
    "per_generation_optimal_value=np.zeros(G)\n",
    "\n",
    "per_generation_D_NP=np.zeros((G,D,NP))\n",
    "per_generation_fitness=np.zeros((G,NP))\n",
    "\n",
    "x_fitness=fitness(x)\n",
    "\n",
    "with tqdm(total=G, desc=\"DE\") as pbar:\n",
    "    for i in range(0,G):\n",
    "        #v=variation(x,F) # 变异\n",
    "        v=variation_optimize(x,F) # 变异的优化\n",
    "        c=cross(x,v,CR) # 交叉\n",
    "        \n",
    "        c=boundary_process(c,Left,Right) # 若超出边界则重新生成\n",
    "        \n",
    "        c_fitness=fitness(c) # 对新的试验种群求适应度\n",
    "        for m in range(0,x.shape[1]):\n",
    "            if c_fitness[m]<x_fitness[m]: # 贪婪地选择当前最优个体\n",
    "                x[:,m]=c[:,m]\n",
    "                x_fitness[m]=c_fitness[m]\n",
    "        index=np.argmin(x_fitness) # 记录最优个体索引\n",
    "        per_generation_optimal_value[i]=x_fitness[index] # 记录最优适应度\n",
    "         # 动态更新进度条信息\n",
    "        pbar.set_postfix({\n",
    "            \"当前迭代次数\": i + 1, \n",
    "            \"最优个体索引\": index, \n",
    "            \"目标函数最小值\": x_fitness[index]\n",
    "        })\n",
    "        # 更新进度条\n",
    "        pbar.update(1)\n",
    "        per_generation_D_NP[i]=x\n",
    "        per_generation_fitness[i]=x_fitness   "
   ],
   "metadata": {
    "collapsed": false,
    "ExecuteTime": {
     "end_time": "2024-10-18T03:42:49.086903Z",
     "start_time": "2024-10-18T03:42:48.644227Z"
    }
   }
  },
  {
   "cell_type": "markdown",
   "source": [
    "### 进化曲线"
   ],
   "metadata": {
    "collapsed": false
   }
  },
  {
   "cell_type": "code",
   "outputs": [
    {
     "data": {
      "text/plain": "<Figure size 640x480 with 1 Axes>",
      "image/png": "[encoded data removed]"
     },
     "metadata": {},
     "output_type": "display_data"
    }
   ],
   "source": [
    "\n",
    "import matplotlib.pyplot as plt\n",
    "# 设置可显示中文宋体\n",
    "plt.rcParams['font.family'] = 'STZhongsong'\n",
    "# 生成 x 轴数据：0 到 G，间隔为 1\n",
    "x = np.arange(0, number_generations, 1)\n",
    "\n",
    "# 生成 y 轴数据：每次迭代的最优值\n",
    "y = per_generation_optimal_value\n",
    "\n",
    "# 绘制折线图\n",
    "plt.plot(x, y)\n",
    "\n",
    "# 设置标题和坐标轴标签\n",
    "plt.title(\"差分进化曲线\")\n",
    "plt.xlabel(\"种群进化的次数\")\n",
    "plt.ylabel(\"目标函数的最优值\")\n",
    "\n",
    "# 显示图形\n",
    "plt.show()\n"
   ],
   "metadata": {
    "collapsed": false,
    "ExecuteTime": {
     "end_time": "2024-10-18T03:42:49.275639Z",
     "start_time": "2024-10-18T03:42:49.087899Z"
    }
   },
   "execution_count": 25
  },
  {
   "cell_type": "markdown",
   "source": [
    "### 保存图片"
   ],
   "metadata": {
    "collapsed": false
   }
  },
  {
   "cell_type": "code",
   "outputs": [],
   "source": [
    "path_imgs=\"C://Users//sc_zh//Desktop//演化计算//imgs//\"\n",
    "path_video=\"C://Users//sc_zh//Desktop//演化计算//video//\"\n",
    "import numpy as np\n",
    "import matplotlib.pyplot as plt\n",
    "\n",
    "# 定义二元函数\n",
    "def f(x, y):\n",
    "    return (x**2 + y**2) - np.exp(-(x**2 + y**2))\n",
    "\n",
    "for i in range(0,150):\n",
    "    # 创建网格\n",
    "    x = np.linspace(-10, 10, 1000)\n",
    "    y = np.linspace(-10, 10, 1000)\n",
    "    X, Y = np.meshgrid(x, y)\n",
    "    Z = f(X, Y)\n",
    "    \n",
    "    # 创建图形\n",
    "    \n",
    "    plt.contour(X, Y, Z, levels=40, cmap='viridis')  # 使用 contourf 可创建填充的等高线\n",
    "    \n",
    "    # 添加颜色条\n",
    "    plt.colorbar()\n",
    "    \n",
    "    # 设置图形标题和标签\n",
    "    plt.title(\"3D plot with Discrete Points\")\n",
    "    plt.xlabel('X')\n",
    "    plt.ylabel('Y')\n",
    "     # 标注全局最小值点\n",
    "    for j in range(0,NP): \n",
    "        plt.scatter(per_generation_D_NP[i,0,j], per_generation_D_NP[i,1,j], color='r', s=50, zorder=5)\n",
    "    # 保存图像到指定目录 图片格式为 \"index.jpg\"\n",
    "    output_path = path_imgs+ f'//de_{i+1}.jpg'\n",
    "    plt.savefig(output_path, dpi=300, bbox_inches='tight')\n",
    "    # 显示图形\n",
    "    #plt.show()\n",
    "    plt.close()\n",
    "\n",
    "\n"
   ],
   "metadata": {
    "collapsed": false,
    "ExecuteTime": {
     "end_time": "2024-10-18T03:44:44.997945Z",
     "start_time": "2024-10-18T03:42:49.277714Z"
    }
   },
   "execution_count": 26
  },
  {
   "cell_type": "markdown",
   "source": [
    "### 合成视频"
   ],
   "metadata": {
    "collapsed": false
   }
  },
  {
   "cell_type": "code",
   "outputs": [
    {
     "name": "stderr",
     "output_type": "stream",
     "text": [
      "C:\\Users\\sc_zh\\AppData\\Local\\Temp\\ipykernel_25032\\1588746156.py:20: DeprecationWarning: Starting with ImageIO v3 the behavior of this function will switch to that of iio.v3.imread. To keep the current behavior (and make this warning disappear) use `import imageio.v2 as imageio` or call `imageio.v2.imread` directly.\n",
      "  image = imageio.imread(filename)\n",
      "IMAGEIO FFMPEG_WRITER WARNING: input image is not divisible by macro_block_size=16, resizing from (1686, 1350) to (1696, 1360) to ensure video compatibility with most codecs and players. To prevent resizing, make your input image divisible by the macro_block_size or set the macro_block_size to 1 (risking incompatibility).\n"
     ]
    }
   ],
   "source": [
    "import imageio\n",
    "\n",
    "# 转换函数\n",
    "def convert_pictures_to_video(input_path, output_path, videofilename, size=800):\n",
    "    '''\n",
    "        >>>#param input_path: 输入路径\n",
    "        >>>#param output_path: 输出路径\n",
    "        >>>#size，图片的数量 默认为800张\n",
    "        >>>#return: 无返回值\n",
    "    '''\n",
    "    # 创建一个空列表，用于存储所有图片的文件名\n",
    "    image_files = []\n",
    "    # 遍历数组的第一个维度，生成图片文件名并添加到列表中\n",
    "    for i in range(1, size + 1):\n",
    "        image_file = input_path + f\"//de_{i}.jpg\"\n",
    "        image_files.append(image_file)\n",
    "    # 使用imageio库将所有图片合成为一个视频文件\n",
    "    with imageio.get_writer(output_path + videofilename, mode='I') as writer:\n",
    "        for filename in image_files:\n",
    "            image = imageio.imread(filename)\n",
    "            writer.append_data(image)\n",
    "# 函数调用，合成mp4格式的视频\n",
    "convert_pictures_to_video(path_imgs,path_video,\"de_contour.mp4\",size=150)"
   ],
   "metadata": {
    "collapsed": false,
    "ExecuteTime": {
     "end_time": "2024-10-18T03:46:32.658244Z",
     "start_time": "2024-10-18T03:46:30.212715Z"
    }
   },
   "execution_count": 29
  }
 ],
 "metadata": {
  "kernelspec": {
   "display_name": "Python 3",
   "language": "python",
   "name": "python3"
  },
  "language_info": {
   "codemirror_mode": {
    "name": "ipython",
    "version": 2
   },
   "file_extension": ".py",
   "mimetype": "text/x-python",
   "name": "python",
   "nbconvert_exporter": "python",
   "pygments_lexer": "ipython2",
   "version": "2.7.6"
  }
 },
 "nbformat": 4,
 "nbformat_minor": 0
}
